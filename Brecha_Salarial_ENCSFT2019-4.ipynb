{
 "cells": [
  {
   "cell_type": "code",
   "execution_count": null,
   "metadata": {},
   "outputs": [],
   "source": [
    "! pip install pandas"
   ]
  },
  {
   "cell_type": "code",
   "execution_count": null,
   "metadata": {},
   "outputs": [],
   "source": [
    "! pip install matplotlib"
   ]
  },
  {
   "cell_type": "code",
   "execution_count": null,
   "metadata": {},
   "outputs": [],
   "source": [
    "! pip install numpy"
   ]
  },
  {
   "cell_type": "code",
   "execution_count": null,
   "metadata": {},
   "outputs": [],
   "source": [
    "import pandas as pd\n",
    "import numpy as np\n",
    "import matplotlib.pyplot as plt\n",
    "\n",
    "%matplotlib inline"
   ]
  },
  {
   "cell_type": "code",
   "execution_count": null,
   "metadata": {},
   "outputs": [],
   "source": [
    "df = pd.read_csv('Miembros_2019-4.csv',low_memory=False,encoding='latin-1')"
   ]
  },
  {
   "cell_type": "code",
   "execution_count": null,
   "metadata": {},
   "outputs": [],
   "source": [
    "print(list(df.columns.values))"
   ]
  },
  {
   "cell_type": "code",
   "execution_count": null,
   "metadata": {},
   "outputs": [],
   "source": [
    "lst_vars = ['MES','SEXO','SUELDO_BRUTO_AP_MONTO']"
   ]
  },
  {
   "cell_type": "code",
   "execution_count": null,
   "metadata": {},
   "outputs": [],
   "source": [
    "df2 = df[lst_vars]"
   ]
  },
  {
   "cell_type": "code",
   "execution_count": null,
   "metadata": {},
   "outputs": [],
   "source": [
    "df2"
   ]
  },
  {
   "cell_type": "code",
   "execution_count": null,
   "metadata": {},
   "outputs": [],
   "source": [
    "df3 = df2.dropna()"
   ]
  },
  {
   "cell_type": "code",
   "execution_count": null,
   "metadata": {},
   "outputs": [],
   "source": [
    "salario_mujer = []\n",
    "salario_hombre = []\n",
    "meses = [10,11,12]\n",
    "\n",
    "for sexo in [1,2]:\n",
    "    df_sexo = df3[df3['SEXO']==sexo]\n",
    "    \n",
    "    for mes in meses:\n",
    "        df_mes = df_sexo[df_sexo['MES']==mes]\n",
    "        salario_medio = df_mes['SUELDO_BRUTO_AP_MONTO'].mean()\n",
    "        \n",
    "        if sexo==1:\n",
    "            salario_mujer.append(salario_medio)\n",
    "        else:\n",
    "            salario_hombre.append(salario_medio)\n",
    "        \n",
    "        print('Género: {}, mes: {}, salario medio: {} DOP'.format(sexo,mes,salario_medio))"
   ]
  },
  {
   "cell_type": "code",
   "execution_count": null,
   "metadata": {},
   "outputs": [],
   "source": []
  },
  {
   "cell_type": "code",
   "execution_count": null,
   "metadata": {},
   "outputs": [],
   "source": [
    "plt.figure(figsize=(10,8))\n",
    "plt.plot(meses,salario_hombre,'o-',label='Salario hombre',lw=5)\n",
    "plt.plot(meses,salario_mujer,'*-',label='Salario mujer',lw=5)\n",
    "plt.legend()\n",
    "plt.ylabel('Salario medio')\n",
    "plt.xticks(meses,['Oct','Nov','Dec'])\n",
    "plt.show()"
   ]
  },
  {
   "cell_type": "code",
   "execution_count": null,
   "metadata": {},
   "outputs": [],
   "source": []
  },
  {
   "cell_type": "markdown",
   "metadata": {},
   "source": [
    "## No hay mucha diferencia entre los salarios medios."
   ]
  },
  {
   "cell_type": "code",
   "execution_count": null,
   "metadata": {},
   "outputs": [],
   "source": []
  },
  {
   "cell_type": "code",
   "execution_count": null,
   "metadata": {},
   "outputs": [],
   "source": [
    "df_sec1 = df[(df['SEXO']==1) & (df['MES']==10)]\n",
    "df_sec2 = df[(df['SEXO']==2) & (df['MES']==10)]"
   ]
  },
  {
   "cell_type": "code",
   "execution_count": null,
   "metadata": {},
   "outputs": [],
   "source": [
    "df_sec1['SUELDO_BRUTO_AP_MONTO'].hist()\n",
    "df_sec2['SUELDO_BRUTO_AP_MONTO'].hist()\n"
   ]
  },
  {
   "cell_type": "markdown",
   "metadata": {},
   "source": [
    "#### In a normal distribution, the interval [μ - 2σ, μ + 2σ] covers 95.5 %, so you can use 2 * std to estimate the 95 % interval:"
   ]
  },
  {
   "cell_type": "code",
   "execution_count": null,
   "metadata": {},
   "outputs": [],
   "source": []
  },
  {
   "cell_type": "code",
   "execution_count": null,
   "metadata": {},
   "outputs": [],
   "source": [
    "salario_mujer = []\n",
    "salario_hombre = []\n",
    "\n",
    "std_mujer = []\n",
    "std_hombre = []\n",
    "\n",
    "meses = [10,11,12]\n",
    "\n",
    "for sexo in [1,2]:\n",
    "    df_sexo = df3[df3['SEXO']==sexo]\n",
    "    \n",
    "    for mes in meses:\n",
    "        df_mes = df_sexo[df_sexo['MES']==mes]\n",
    "        salario_medio = df_mes['SUELDO_BRUTO_AP_MONTO'].mean()\n",
    "        std_result = df_mes['SUELDO_BRUTO_AP_MONTO'].std()\n",
    "        \n",
    "        if sexo==1:\n",
    "            salario_mujer.append(salario_medio)\n",
    "            std_mujer.append(2*std_result)\n",
    "            \n",
    "        else:\n",
    "            salario_hombre.append(salario_medio)\n",
    "            std_hombre.append(2*std_result)\n",
    "        \n",
    "        print('Género: {}, mes: {}, salario medio: {} DOP, 2 x desviación standard = {}'.format(sexo,mes,salario_medio,std_result))"
   ]
  },
  {
   "cell_type": "code",
   "execution_count": null,
   "metadata": {},
   "outputs": [],
   "source": []
  },
  {
   "cell_type": "code",
   "execution_count": null,
   "metadata": {},
   "outputs": [],
   "source": [
    "plt.figure(figsize=(10,8))\n",
    "plt.errorbar(meses,salario_hombre,yerr=std_hombre,label='Salario hombre', linestyle='--',lw=6)\n",
    "plt.errorbar(meses,salario_mujer,yerr=std_mujer,label='Salario mujer')\n",
    "plt.legend()\n",
    "plt.ylabel('Salario medio')\n",
    "plt.xticks(meses,['Oct','Nov','Dec'])\n",
    "plt.show()"
   ]
  },
  {
   "cell_type": "code",
   "execution_count": null,
   "metadata": {},
   "outputs": [],
   "source": []
  },
  {
   "cell_type": "code",
   "execution_count": null,
   "metadata": {},
   "outputs": [],
   "source": []
  },
  {
   "cell_type": "code",
   "execution_count": null,
   "metadata": {},
   "outputs": [],
   "source": []
  }
 ],
 "metadata": {
  "kernelspec": {
   "display_name": "Python 3",
   "language": "python",
   "name": "python3"
  },
  "language_info": {
   "codemirror_mode": {
    "name": "ipython",
    "version": 3
   },
   "file_extension": ".py",
   "mimetype": "text/x-python",
   "name": "python",
   "nbconvert_exporter": "python",
   "pygments_lexer": "ipython3",
   "version": "3.8.13"
  }
 },
 "nbformat": 4,
 "nbformat_minor": 4
}
